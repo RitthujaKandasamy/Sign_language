{
 "cells": [
  {
   "cell_type": "code",
   "execution_count": null,
   "metadata": {},
   "outputs": [],
   "source": [
    "!pip install keytotext -q"
   ]
  },
  {
   "cell_type": "code",
   "execution_count": 1,
   "metadata": {},
   "outputs": [
    {
     "name": "stderr",
     "output_type": "stream",
     "text": [
      "Global seed set to 42\n"
     ]
    }
   ],
   "source": [
    "from keytotext import pipeline"
   ]
  },
  {
   "cell_type": "code",
   "execution_count": 2,
   "metadata": {},
   "outputs": [],
   "source": [
    "nlp = pipeline(\"mrm8488/t5-base-finetuned-common_gen\")"
   ]
  },
  {
   "cell_type": "code",
   "execution_count": null,
   "metadata": {},
   "outputs": [],
   "source": [
    "#nlp1 = pipeline(\"k2t-base\")"
   ]
  },
  {
   "cell_type": "code",
   "execution_count": 65,
   "metadata": {},
   "outputs": [],
   "source": [
    "keywords = ['this', 'website', 'hearing disable', 'people','normal', 'easily']"
   ]
  },
  {
   "cell_type": "code",
   "execution_count": 66,
   "metadata": {},
   "outputs": [],
   "source": [
    "keywords = ['it','helps', 'them', 'make', 'friends']"
   ]
  },
  {
   "cell_type": "code",
   "execution_count": 29,
   "metadata": {},
   "outputs": [],
   "source": [
    "#keywords = ['website', 'Hello', 'my']"
   ]
  },
  {
   "cell_type": "code",
   "execution_count": 7,
   "metadata": {},
   "outputs": [],
   "source": [
    "params = {\"do_sample\":False, \"num_beams\":4, \"no_repeat_ngram_size\":3, \"early_stopping\":True}    #decoding params\n",
    "# print (nlp(['Delhi', 'India', 'capital'], **params))"
   ]
  },
  {
   "cell_type": "code",
   "execution_count": null,
   "metadata": {},
   "outputs": [],
   "source": [
    "#nlp1(keywords, **params)"
   ]
  },
  {
   "cell_type": "code",
   "execution_count": 67,
   "metadata": {},
   "outputs": [
    {
     "data": {
      "text/plain": [
       "'it helps them make friends.'"
      ]
     },
     "execution_count": 67,
     "metadata": {},
     "output_type": "execute_result"
    }
   ],
   "source": [
    "nlp(keywords, **params)"
   ]
  },
  {
   "cell_type": "code",
   "execution_count": null,
   "metadata": {},
   "outputs": [],
   "source": [
    "import cv2\n",
    "import time\n",
    "import os\n",
    "import pyttsx3\n",
    "from pygame import mixer"
   ]
  },
  {
   "cell_type": "code",
   "execution_count": null,
   "metadata": {},
   "outputs": [],
   "source": [
    "def select_mode(key, mode):\n",
    "    \n",
    "    if key == ord('n'):\n",
    "        mode = 2\n",
    "    if key == ord('r'):\n",
    "        mode = 3\n",
    "    return mode\n"
   ]
  },
  {
   "cell_type": "code",
   "execution_count": null,
   "metadata": {},
   "outputs": [],
   "source": [
    "def text(mode, keywords, params):\n",
    "   \n",
    "    sen = []\n",
    "    \n",
    "    if mode == 2:\n",
    "        pass\n",
    "    if mode == 3:\n",
    "        sen.append(nlp(keywords, **params))\n",
    "        engine = pyttsx3.init()\n",
    "        voices = engine.getProperty('voices')\n",
    "        engine.setProperty('voice', voices[2].id)\n",
    "        engine.setProperty('rate', 178)\n",
    "        engine.say(sen)\n",
    "        engine.runAndWait()\n",
    "        keywords.clear()\n",
    "        \n",
    "\n",
    "    print(len(sen))                 \n",
    "    return sen"
   ]
  },
  {
   "cell_type": "code",
   "execution_count": null,
   "metadata": {},
   "outputs": [],
   "source": [
    "mode = 2\n",
    "\n",
    "WIDTH = 2158//2\n",
    "HEIGHT = 1520//2\n",
    "\n",
    "cap = cv2.VideoCapture(0)\n",
    "cap.set(cv2.CAP_PROP_FRAME_WIDTH, WIDTH)\n",
    "cap.set(cv2.CAP_PROP_FRAME_HEIGHT, HEIGHT)\n",
    "\n",
    "while True:\n",
    "    key = cv2.waitKey(1)\n",
    "    if key == ord('q'):\n",
    "        break\n",
    "\n",
    "    # choose mode (normal or recording)\n",
    "    mode = select_mode(key, mode=mode)\n",
    "    print(f'key:{key}, mode:{mode}')\n",
    "\n",
    "    # class id for recording\n",
    "    class_id = text(mode, keywords=['Hello', 'website'], params= {\"do_sample\":False, \"num_beams\":4, \"no_repeat_ngram_size\":3, \"early_stopping\":True} )\n",
    "\n",
    "    # read camera\n",
    "    has_frame, frame = cap.read()\n",
    "    if not has_frame:\n",
    "        break\n",
    "\n",
    "    # horizontal flip and color conversion for mediapipe\n",
    "    frame = cv2.flip(frame, 1)\n",
    "    frame_rgb = cv2.cvtColor(frame, cv2.COLOR_BGR2RGB)\n",
    "\n",
    "    cv2.rectangle(frame, (0,0), (640, 40), (245, 117, 16), -1)\n",
    "    cv2.putText(frame, ' '.join(class_id), (3, 30), \n",
    "            cv2.FONT_HERSHEY_COMPLEX_SMALL, 0.7, (255, 255, 255), 1, cv2.LINE_AA)\n",
    "\n",
    "            \n",
    "\n",
    "    cv2.imshow('', frame)\n",
    "cap.release()\n",
    "cv2.destroyAllWindows()"
   ]
  },
  {
   "cell_type": "code",
   "execution_count": null,
   "metadata": {},
   "outputs": [],
   "source": [
    "sentence = []"
   ]
  },
  {
   "cell_type": "code",
   "execution_count": null,
   "metadata": {},
   "outputs": [],
   "source": [
    "if len(keywords) > 2 :\n",
    "\n",
    "   sentence.append(nlp(keywords))\n",
    "   print(' '.join(sentence))\n",
    "\n",
    "else:\n",
    "    print(' '.join(keywords))"
   ]
  }
 ],
 "metadata": {
  "kernelspec": {
   "display_name": "Python 3.8.13 ('deep')",
   "language": "python",
   "name": "python3"
  },
  "language_info": {
   "codemirror_mode": {
    "name": "ipython",
    "version": 3
   },
   "file_extension": ".py",
   "mimetype": "text/x-python",
   "name": "python",
   "nbconvert_exporter": "python",
   "pygments_lexer": "ipython3",
   "version": "3.8.13"
  },
  "orig_nbformat": 4,
  "vscode": {
   "interpreter": {
    "hash": "8abb0779bf248a90442b2ba375cb2dc444ddbc86bf34dd34983763988490020e"
   }
  }
 },
 "nbformat": 4,
 "nbformat_minor": 2
}
